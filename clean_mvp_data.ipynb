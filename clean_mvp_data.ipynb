{
 "cells": [
  {
   "cell_type": "code",
   "execution_count": 1,
   "metadata": {},
   "outputs": [],
   "source": [
    "import csv\n",
    "import json"
   ]
  },
  {
   "cell_type": "code",
   "execution_count": 10,
   "metadata": {},
   "outputs": [],
   "source": [
    "with open('tickers.csv') as tickers_csv:\n",
    "    reader = csv.DictReader(tickers_csv)\n",
    "    dict_arr = []\n",
    "    for row in reader:\n",
    "        if row['isdelisted'] == 'N' and row['category'] in  ['Domestic', 'Domestic Primary'] and row['table'] == 'SF1':\n",
    "            dict_arr.append(row)"
   ]
  },
  {
   "cell_type": "code",
   "execution_count": 23,
   "metadata": {},
   "outputs": [
    {
     "data": {
      "text/plain": [
       "4543"
      ]
     },
     "execution_count": 23,
     "metadata": {},
     "output_type": "execute_result"
    }
   ],
   "source": [
    "len(dict_arr)"
   ]
  },
  {
   "cell_type": "code",
   "execution_count": 18,
   "metadata": {},
   "outputs": [],
   "source": [
    "mvp_json = {}\n",
    "fields = ['name', 'exchange', 'location', 'sector', 'industry',\n",
    "          'currency', 'famaindustry', 'sicsector', 'sicindustry']\n",
    "\n",
    "#print({field: dict_arr[0][field] for field in fields})\n",
    "for r in dict_arr:\n",
    "    new_dict = {field: r[field] for field in fields }\n",
    "    mvp_json[r['ticker']] = new_dict"
   ]
  },
  {
   "cell_type": "code",
   "execution_count": 22,
   "metadata": {},
   "outputs": [],
   "source": [
    "with open('mvp_tickers.json', 'w') as jsonout:\n",
    "    jsonout.write(json.dumps(mvp_json, indent=4, sort_keys=True))"
   ]
  },
  {
   "cell_type": "code",
   "execution_count": 29,
   "metadata": {},
   "outputs": [],
   "source": []
  },
  {
   "cell_type": "code",
   "execution_count": 37,
   "metadata": {},
   "outputs": [],
   "source": [
    "fundamentals_data = {r:{} for r in mvp_json.keys()}\n",
    "fundamentals = ['cashneq', 'marketcap', 'ebit', 'ebitda', 'debt', 'equity', 'revenue', 'sharesbas']\n",
    "with open('fundamentals.csv') as fundamentals_csv:\n",
    "    reader = csv.DictReader(fundamentals_csv)\n",
    "    for row in reader:\n",
    "        if row['ticker'] in fundamentals_data and row['dimension'] == 'MRQ':\n",
    "            flag = False\n",
    "            for f in fundamentals:\n",
    "                if f not in row:\n",
    "                    flag = True\n",
    "                    break\n",
    "            if flag: continue\n",
    "                \n",
    "            fundamentals_data[row['ticker']][row['reportperiod']] = {f: row[f] for f in fundamentals}"
   ]
  },
  {
   "cell_type": "code",
   "execution_count": 39,
   "metadata": {},
   "outputs": [],
   "source": [
    "for t in mvp_json.keys():\n",
    "    mvp_json[t]['fundamentals'] = fundamentals_data[t] "
   ]
  },
  {
   "cell_type": "code",
   "execution_count": 41,
   "metadata": {},
   "outputs": [],
   "source": [
    "with open('mvp_data.json', 'w') as jsonout:\n",
    "    jsonout.write(json.dumps(mvp_json, indent=4, sort_keys=True))"
   ]
  },
  {
   "cell_type": "code",
   "execution_count": null,
   "metadata": {},
   "outputs": [],
   "source": []
  }
 ],
 "metadata": {
  "kernelspec": {
   "display_name": "Python 3",
   "language": "python",
   "name": "python3"
  },
  "language_info": {
   "codemirror_mode": {
    "name": "ipython",
    "version": 3
   },
   "file_extension": ".py",
   "mimetype": "text/x-python",
   "name": "python",
   "nbconvert_exporter": "python",
   "pygments_lexer": "ipython3",
   "version": "3.7.3"
  }
 },
 "nbformat": 4,
 "nbformat_minor": 2
}
